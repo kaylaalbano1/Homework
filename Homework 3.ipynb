{
 "cells": [
  {
   "cell_type": "markdown",
   "metadata": {},
   "source": [
    "# Question 0"
   ]
  },
  {
   "cell_type": "code",
   "execution_count": 6,
   "metadata": {},
   "outputs": [
    {
     "name": "stdout",
     "output_type": "stream",
     "text": [
      "<class 'dict'>\n",
      "{'Andy': 88, 'Amy': 66, 'James': 90, 'Jules': 55, 'Arthur': 77}\n"
     ]
    }
   ],
   "source": [
    "marks = {\"Andy\": 88, \"Amy\": 66, \"James\": 90, \"Jules\": 55, \"Arthur\": 77}\n",
    "print(type(marks))\n",
    "print(marks)"
   ]
  },
  {
   "cell_type": "markdown",
   "metadata": {},
   "source": [
    "# Question 1"
   ]
  },
  {
   "cell_type": "code",
   "execution_count": 3,
   "metadata": {},
   "outputs": [
    {
     "name": "stdout",
     "output_type": "stream",
     "text": [
      "Andy score is 88\n",
      "Amy score is 66\n",
      "James score is 90\n",
      "Jules score is 55\n",
      "Arthur score is 77\n"
     ]
    }
   ],
   "source": [
    "gradesList = {\"Andy\": 88, \"Amy\": 66, \"James\": 90, \"Jules\": 55, \"Arthur\": 77}\n",
    "for person in gradesList: \n",
    "    print(person, 'score is', gradesList[person])"
   ]
  },
  {
   "cell_type": "markdown",
   "metadata": {},
   "source": [
    "# Question 2"
   ]
  },
  {
   "cell_type": "code",
   "execution_count": 17,
   "metadata": {},
   "outputs": [
    {
     "name": "stdout",
     "output_type": "stream",
     "text": [
      "75.2\n"
     ]
    }
   ],
   "source": [
    "gradesList = {\"Andy\": 88, \"Amy\": 66, \"James\": 90, \"Jules\": 55, \"Arthur\": 77}\n",
    "\n",
    "#this is the mean:\n",
    "total = 0 \n",
    "for person in gradesList: \n",
    "    total = total + gradesList[person]\n",
    "average = total / len(gradesList)\n",
    "print(average)"
   ]
  },
  {
   "cell_type": "code",
   "execution_count": 25,
   "metadata": {
    "scrolled": true
   },
   "outputs": [
    {
     "name": "stdout",
     "output_type": "stream",
     "text": [
      "55\n"
     ]
    }
   ],
   "source": [
    "gradesList = {\"Andy\": 88, \"Amy\": 66, \"James\": 90, \"Jules\": 55, \"Arthur\": 77}\n",
    "\n",
    "#this is the minimum\n",
    "minimum = 100\n",
    "for score in gradesList: \n",
    "    if gradesList[score] < minimum: \n",
    "        minimum = gradesList[score]\n",
    "print(minimum)"
   ]
  },
  {
   "cell_type": "code",
   "execution_count": 26,
   "metadata": {},
   "outputs": [
    {
     "name": "stdout",
     "output_type": "stream",
     "text": [
      "90\n"
     ]
    }
   ],
   "source": [
    "gradesList = {\"Andy\": 88, \"Amy\": 66, \"James\": 90, \"Jules\": 55, \"Arthur\": 77}\n",
    "\n",
    "#this is the maximum \n",
    "maximum = 0\n",
    "for score in gradesList: \n",
    "    if gradesList[score] > maximum:\n",
    "        maximum = gradesList[score]\n",
    "print(maximum)"
   ]
  },
  {
   "cell_type": "markdown",
   "metadata": {},
   "source": [
    "# Question 3"
   ]
  },
  {
   "cell_type": "code",
   "execution_count": 10,
   "metadata": {},
   "outputs": [
    {
     "name": "stdout",
     "output_type": "stream",
     "text": [
      "Andy\n",
      "Amy\n"
     ]
    }
   ],
   "source": [
    "gradesList = {\"Andy\": 88, \"Amy\": 66, \"James\": 90, \"Jules\": 55, \"Arthur\": 77}\n",
    "\n",
    "for person in gradesList: \n",
    "    if \"J\" in person: \n",
    "        break \n",
    "    print(person)"
   ]
  },
  {
   "cell_type": "markdown",
   "metadata": {},
   "source": [
    "# Question 4"
   ]
  },
  {
   "cell_type": "code",
   "execution_count": 11,
   "metadata": {},
   "outputs": [
    {
     "name": "stdout",
     "output_type": "stream",
     "text": [
      "Andy\n",
      "Amy\n",
      "Arthur\n"
     ]
    }
   ],
   "source": [
    "gradesList = {\"Andy\": 88, \"Amy\": 66, \"James\": 90, \"Jules\": 55, \"Arthur\": 77}\n",
    "\n",
    "for person in gradesList: \n",
    "    if \"J\" in person:\n",
    "        continue\n",
    "    print(person)"
   ]
  },
  {
   "cell_type": "markdown",
   "metadata": {},
   "source": [
    "# Question 5"
   ]
  },
  {
   "cell_type": "code",
   "execution_count": 15,
   "metadata": {},
   "outputs": [
    {
     "name": "stdout",
     "output_type": "stream",
     "text": [
      "pick a student: Jules\n",
      "55\n"
     ]
    }
   ],
   "source": [
    "gradesList = {\"Andy\": 88, \"Amy\": 66, \"James\": 90, \"Jules\": 55, \"Arthur\": 77}\n",
    "\n",
    "def grade(student): \n",
    "    if student in gradesList: \n",
    "        print(gradesList[student])\n",
    "    else: \n",
    "        print('can not find student', student)\n",
    "        \n",
    "student = input(\"pick a student: \")\n",
    "grade(student)"
   ]
  }
 ],
 "metadata": {
  "kernelspec": {
   "display_name": "Python 3",
   "language": "python",
   "name": "python3"
  },
  "language_info": {
   "codemirror_mode": {
    "name": "ipython",
    "version": 3
   },
   "file_extension": ".py",
   "mimetype": "text/x-python",
   "name": "python",
   "nbconvert_exporter": "python",
   "pygments_lexer": "ipython3",
   "version": "3.8.3"
  }
 },
 "nbformat": 4,
 "nbformat_minor": 4
}
